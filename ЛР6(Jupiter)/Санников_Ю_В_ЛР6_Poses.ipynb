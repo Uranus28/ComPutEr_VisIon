{
 "cells": [
  {
   "cell_type": "code",
   "execution_count": 167,
   "metadata": {
    "colab": {
     "base_uri": "https://localhost:8080/"
    },
    "id": "Yw2stfEE1PtQ",
    "outputId": "3699080a-66fd-4b73-e145-4405068a4313"
   },
   "outputs": [
    {
     "name": "stdout",
     "output_type": "stream",
     "text": [
      "Requirement already satisfied: mediapipe in c:\\users\\yuriy\\anaconda3\\lib\\site-packages (0.10.21)\n",
      "Requirement already satisfied: absl-py in c:\\users\\yuriy\\anaconda3\\lib\\site-packages (from mediapipe) (2.2.2)\n",
      "Requirement already satisfied: attrs>=19.1.0 in c:\\users\\yuriy\\anaconda3\\lib\\site-packages (from mediapipe) (23.1.0)\n",
      "Requirement already satisfied: flatbuffers>=2.0 in c:\\users\\yuriy\\anaconda3\\lib\\site-packages (from mediapipe) (25.2.10)\n",
      "Requirement already satisfied: jax in c:\\users\\yuriy\\anaconda3\\lib\\site-packages (from mediapipe) (0.6.0)\n",
      "Requirement already satisfied: jaxlib in c:\\users\\yuriy\\anaconda3\\lib\\site-packages (from mediapipe) (0.6.0)\n",
      "Requirement already satisfied: matplotlib in c:\\users\\yuriy\\anaconda3\\lib\\site-packages (from mediapipe) (3.9.2)\n",
      "Requirement already satisfied: numpy<2 in c:\\users\\yuriy\\anaconda3\\lib\\site-packages (from mediapipe) (1.26.4)\n",
      "Requirement already satisfied: opencv-contrib-python in c:\\users\\yuriy\\anaconda3\\lib\\site-packages (from mediapipe) (4.11.0.86)\n",
      "Requirement already satisfied: protobuf<5,>=4.25.3 in c:\\users\\yuriy\\anaconda3\\lib\\site-packages (from mediapipe) (4.25.3)\n",
      "Requirement already satisfied: sounddevice>=0.4.4 in c:\\users\\yuriy\\anaconda3\\lib\\site-packages (from mediapipe) (0.5.1)\n",
      "Requirement already satisfied: sentencepiece in c:\\users\\yuriy\\anaconda3\\lib\\site-packages (from mediapipe) (0.2.0)\n",
      "Requirement already satisfied: CFFI>=1.0 in c:\\users\\yuriy\\anaconda3\\lib\\site-packages (from sounddevice>=0.4.4->mediapipe) (1.17.1)\n",
      "Requirement already satisfied: ml_dtypes>=0.5.0 in c:\\users\\yuriy\\anaconda3\\lib\\site-packages (from jax->mediapipe) (0.5.1)\n",
      "Requirement already satisfied: opt_einsum in c:\\users\\yuriy\\anaconda3\\lib\\site-packages (from jax->mediapipe) (3.4.0)\n",
      "Requirement already satisfied: scipy>=1.11.1 in c:\\users\\yuriy\\anaconda3\\lib\\site-packages (from jax->mediapipe) (1.13.1)\n",
      "Requirement already satisfied: contourpy>=1.0.1 in c:\\users\\yuriy\\anaconda3\\lib\\site-packages (from matplotlib->mediapipe) (1.2.0)\n",
      "Requirement already satisfied: cycler>=0.10 in c:\\users\\yuriy\\anaconda3\\lib\\site-packages (from matplotlib->mediapipe) (0.11.0)\n",
      "Requirement already satisfied: fonttools>=4.22.0 in c:\\users\\yuriy\\anaconda3\\lib\\site-packages (from matplotlib->mediapipe) (4.51.0)\n",
      "Requirement already satisfied: kiwisolver>=1.3.1 in c:\\users\\yuriy\\anaconda3\\lib\\site-packages (from matplotlib->mediapipe) (1.4.4)\n",
      "Requirement already satisfied: packaging>=20.0 in c:\\users\\yuriy\\anaconda3\\lib\\site-packages (from matplotlib->mediapipe) (24.1)\n",
      "Requirement already satisfied: pillow>=8 in c:\\users\\yuriy\\anaconda3\\lib\\site-packages (from matplotlib->mediapipe) (10.4.0)\n",
      "Requirement already satisfied: pyparsing>=2.3.1 in c:\\users\\yuriy\\anaconda3\\lib\\site-packages (from matplotlib->mediapipe) (3.1.2)\n",
      "Requirement already satisfied: python-dateutil>=2.7 in c:\\users\\yuriy\\anaconda3\\lib\\site-packages (from matplotlib->mediapipe) (2.9.0.post0)\n",
      "Requirement already satisfied: pycparser in c:\\users\\yuriy\\anaconda3\\lib\\site-packages (from CFFI>=1.0->sounddevice>=0.4.4->mediapipe) (2.21)\n",
      "Requirement already satisfied: six>=1.5 in c:\\users\\yuriy\\anaconda3\\lib\\site-packages (from python-dateutil>=2.7->matplotlib->mediapipe) (1.16.0)\n"
     ]
    }
   ],
   "source": [
    "!pip install mediapipe"
   ]
  },
  {
   "cell_type": "code",
   "execution_count": 168,
   "metadata": {
    "colab": {
     "base_uri": "https://localhost:8080/"
    },
    "id": "Uype6cOj1VW5",
    "outputId": "7d91b1df-77c0-4f23-fae0-49d0cde97fde"
   },
   "outputs": [
    {
     "name": "stdout",
     "output_type": "stream",
     "text": [
      "Requirement already satisfied: keyboard in c:\\users\\yuriy\\anaconda3\\lib\\site-packages (0.13.5)\n"
     ]
    }
   ],
   "source": [
    "!pip install keyboard"
   ]
  },
  {
   "cell_type": "code",
   "execution_count": 169,
   "metadata": {
    "id": "SCmd2RUj1kk4"
   },
   "outputs": [],
   "source": [
    "import mediapipe as mp\n",
    "import cv2\n",
    "import time\n",
    "import keyboard\n",
    "# from google.colab.patches import cv2_imshow"
   ]
  },
  {
   "cell_type": "code",
   "execution_count": 170,
   "metadata": {},
   "outputs": [],
   "source": [
    "import math"
   ]
  },
  {
   "cell_type": "code",
   "execution_count": 171,
   "metadata": {
    "id": "Rq2h6lLi126a"
   },
   "outputs": [],
   "source": [
    "fileName = 'runningManWalkingMan.mp4'"
   ]
  },
  {
   "cell_type": "code",
   "execution_count": 203,
   "metadata": {
    "id": "BTbF23FV1vb4"
   },
   "outputs": [],
   "source": [
    "cap = cv2.VideoCapture(fileName)"
   ]
  },
  {
   "cell_type": "code",
   "execution_count": 173,
   "metadata": {},
   "outputs": [],
   "source": [
    "classes = [\n",
    "    \"run\",\n",
    "    \"walk\"\n",
    "]"
   ]
  },
  {
   "cell_type": "code",
   "execution_count": 174,
   "metadata": {},
   "outputs": [],
   "source": [
    "def calculateAngle(landmark1, landmark2, landmark3):\n",
    "    '''\n",
    "    This function calculates angle between three different landmarks.\n",
    "    Args:\n",
    "        landmark1: The first landmark containing the x,y and z coordinates.\n",
    "        landmark2: The second landmark containing the x,y and z coordinates.\n",
    "        landmark3: The third landmark containing the x,y and z coordinates.\n",
    "    Returns:\n",
    "        angle: The calculated angle between the three landmarks.\n",
    "\n",
    "    '''\n",
    "\n",
    "    # Get the required landmarks coordinates.\n",
    "    x1 = landmark1.x\n",
    "    y1 = landmark1.y\n",
    "    x2 = landmark2.x\n",
    "    y2 = landmark2.y\n",
    "    x3= landmark3.x\n",
    "    y3 = landmark3.y\n",
    "\n",
    "    # Calculate the angle between the three points\n",
    "    angle = math.degrees(math.atan2(y3 - y2, x3 - x2) - math.atan2(y1 - y2, x1 - x2))\n",
    "    \n",
    "    # Check if the angle is less than zero.\n",
    "    if angle < 0:\n",
    "\n",
    "        # Add 360 to the found angle.\n",
    "        angle += 360\n",
    "    \n",
    "    # Return the calculated angle.\n",
    "    return angle"
   ]
  },
  {
   "cell_type": "code",
   "execution_count": 272,
   "metadata": {},
   "outputs": [],
   "source": [
    "def classifyPose(landmarks, mp_pose):\n",
    "    '''\n",
    "    This function classifies Ashton Hauls Running routine poses depending upon the angles of various body joints.\n",
    "    Args:\n",
    "        landmarks: A list of detected landmarks of the person whose pose needs to be classified.\n",
    "        mp_pose: An mp.solutions.pose.\n",
    "    Returns:\n",
    "        label: The classified pose label of the person in the output_image.\n",
    "\n",
    "    '''\n",
    "    \n",
    "    # Initialize the label of the pose. It is not known at this stage.\n",
    "    label = 'Unknown Pose'\n",
    "\n",
    "    # Specify the color (Red) with which the label will be written on the image.\n",
    "    color = (0, 0, 255)\n",
    "    \n",
    "    # Calculate the required angles.\n",
    "    #----------------------------------------------------------------------------------------------------------------\n",
    "    \n",
    "    # Get the angle between the left shoulder, elbow and wrist points. \n",
    "    left_elbow_angle = calculateAngle(landmarks[mp_pose.PoseLandmark.LEFT_SHOULDER.value],\n",
    "                                      landmarks[mp_pose.PoseLandmark.LEFT_ELBOW.value],\n",
    "                                      landmarks[mp_pose.PoseLandmark.LEFT_WRIST.value])\n",
    "    \n",
    "    # Get the angle between the right shoulder, elbow and wrist points. \n",
    "    right_elbow_angle = calculateAngle(landmarks[mp_pose.PoseLandmark.RIGHT_SHOULDER.value],\n",
    "                                       landmarks[mp_pose.PoseLandmark.RIGHT_ELBOW.value],\n",
    "                                       landmarks[mp_pose.PoseLandmark.RIGHT_WRIST.value])   \n",
    "    \n",
    "    # Get the angle between the left elbow, shoulder and hip points. \n",
    "    left_shoulder_angle = calculateAngle(landmarks[mp_pose.PoseLandmark.LEFT_ELBOW.value],\n",
    "                                         landmarks[mp_pose.PoseLandmark.LEFT_SHOULDER.value],\n",
    "                                         landmarks[mp_pose.PoseLandmark.LEFT_HIP.value])\n",
    "\n",
    "    # Get the angle between the right hip, shoulder and elbow points. \n",
    "    right_shoulder_angle = calculateAngle(landmarks[mp_pose.PoseLandmark.RIGHT_HIP.value],\n",
    "                                          landmarks[mp_pose.PoseLandmark.RIGHT_SHOULDER.value],\n",
    "                                          landmarks[mp_pose.PoseLandmark.RIGHT_ELBOW.value])\n",
    "\n",
    "    # Get the angle between the left hip, knee and ankle points. \n",
    "    left_knee_angle = calculateAngle(landmarks[mp_pose.PoseLandmark.LEFT_HIP.value],\n",
    "                                     landmarks[mp_pose.PoseLandmark.LEFT_KNEE.value],\n",
    "                                     landmarks[mp_pose.PoseLandmark.LEFT_ANKLE.value])\n",
    "\n",
    "    # Get the angle between the right hip, knee and ankle points \n",
    "    right_knee_angle = calculateAngle(landmarks[mp_pose.PoseLandmark.RIGHT_HIP.value],\n",
    "                                      landmarks[mp_pose.PoseLandmark.RIGHT_KNEE.value],\n",
    "                                      landmarks[mp_pose.PoseLandmark.RIGHT_ANKLE.value])\n",
    "    if (left_elbow_angle > 20 and left_elbow_angle < 100  or right_elbow_angle > 20 and right_elbow_angle < 100) or (left_elbow_angle > 20+180 and left_elbow_angle < 100+180  or right_elbow_angle > 20+180 and right_elbow_angle < 100+180):\n",
    "\n",
    "    #----------------------------------------------------------------------------------------------------------------\n",
    "    \n",
    "    # Check if it is the run pose.\n",
    "    #----------------------------------------------------------------------------------------------------------------\n",
    "            label = 'run'\n",
    "\n",
    "            # Check if both legs are straight\n",
    "            if (left_knee_angle > 160 and left_knee_angle < 195 and right_knee_angle < 160 and right_knee_angle > 195) or (left_knee_angle < 160 and left_knee_angle > 195 and right_knee_angle < 160 and right_knee_angle > 195):\n",
    "\n",
    "                label = 'walk'\n",
    "            else: \n",
    "                label = 'run'\n",
    "\n",
    "    #----------------------------------------------------------------------------------------------------------------\n",
    "    \n",
    "    # Check if it is the walk pose.\n",
    "    #----------------------------------------------------------------------------------------------------------------\n",
    "    \n",
    "     # Check if one leg is straight\n",
    "    if left_knee_angle > 165 and left_knee_angle < 195 or right_knee_angle > 165 and right_knee_angle < 195:\n",
    "\n",
    "        # Check if the shoulder at the required angle.\n",
    "        if (left_shoulder_angle > 0 and left_shoulder_angle < 100 or left_shoulder_angle > 0+180 and left_shoulder_angle < 100+180) and (right_elbow_angle > 165 and right_elbow_angle < 195 or right_elbow_angle > 165+180 and right_elbow_angle < 195+180):\n",
    "\n",
    "            # Specify the label of the drink pose.\n",
    "            label = 'drink'                \n",
    "    #----------------------------------------------------------------------------------------------------------------\n",
    "    \n",
    "    # Check if the pose is classified successfully\n",
    "    if label != 'Unknown Pose':\n",
    "        \n",
    "        # Update the color (to green) with which the label will be written on the image.\n",
    "        color = (0, 255, 0)  \n",
    "    return label"
   ]
  },
  {
   "cell_type": "code",
   "execution_count": 268,
   "metadata": {},
   "outputs": [],
   "source": [
    "cap = cv2.VideoCapture(fileName)"
   ]
  },
  {
   "cell_type": "code",
   "execution_count": 270,
   "metadata": {
    "colab": {
     "base_uri": "https://localhost:8080/",
     "height": 1000
    },
    "id": "t-4jN5JP2CrU",
    "outputId": "7e2660cd-1fd6-4e5c-a223-a0607527dbd0"
   },
   "outputs": [],
   "source": [
    "pTime = 0\n",
    "cTime = 0\n",
    "\n",
    "mpDraw = mp.solutions.drawing_utils\n",
    "mpPose = mp.solutions.pose\n",
    "\n",
    "pose = mpPose.Pose()\n",
    "results = 0\n",
    "while True:\n",
    "  success, img = cap.read()\n",
    "  if not success:\n",
    "    cap.release()\n",
    "    cv2.destroyAllWindows()\n",
    "    break\n",
    "\n",
    "\n",
    "  imgRGB = cv2.cvtColor(img, cv2.COLOR_BGR2RGB)\n",
    "\n",
    "  results = pose.process(imgRGB)\n",
    "  label = \"unknown Pose\"\n",
    "    \n",
    "  if results.pose_landmarks:\n",
    "    label = classifyPose(results.pose_landmarks.landmark, mpPose)\n",
    "    mpDraw.draw_landmarks(img, results.pose_landmarks, mpPose.POSE_CONNECTIONS)\n",
    "    h, w, c = img.shape\n",
    "    for id, lm in enumerate(results.pose_landmarks.landmark):\n",
    "      cx, cy = int(lm.x * w), int(lm.y * h)\n",
    "      if id == 0:\n",
    "        cv2.circle(img, (cx, cy), 5, (255,0, 0), cv2.FILLED)\n",
    "    \n",
    "    \n",
    "  cTime = time.time()\n",
    "  fps = 1 / (cTime - pTime)\n",
    "  pTime = cTime\n",
    "\n",
    "  cv2.putText(img, str(int(fps)), (70, 70), cv2.FONT_ITALIC, 1, (255,0,0))\n",
    "  cv2.putText(img, label, (70, 10), cv2.FONT_ITALIC, 1, (0,0,255))#вывести текстом, что происходит в кадре\n",
    "  cv2.imshow(\"Image\", img)\n",
    "\n",
    "  cv2.waitKey(1)\n",
    "\n",
    "  if keyboard.is_pressed('space'):\n",
    "    cv2.destroyAllWindows()\n",
    "    break"
   ]
  },
  {
   "cell_type": "code",
   "execution_count": 177,
   "metadata": {},
   "outputs": [
    {
     "name": "stdout",
     "output_type": "stream",
     "text": [
      "174 945\n"
     ]
    }
   ],
   "source": [
    " for id, lm in enumerate(results.pose_landmarks.landmark):\n",
    "      # cx, cy = int(lm.x * w), int(lm.y * h)\n",
    "      if id == 0:\n",
    "        print(cx, cy)"
   ]
  },
  {
   "cell_type": "code",
   "execution_count": 178,
   "metadata": {},
   "outputs": [],
   "source": [
    "# mpPose.PoseLandmark.RIGHT_SHOULDER.value"
   ]
  },
  {
   "cell_type": "code",
   "execution_count": null,
   "metadata": {},
   "outputs": [],
   "source": [
    "# results.pose_landmarks.landmark[mpPose.PoseLandmark.RIGHT_SHOULDER.value].x"
   ]
  },
  {
   "cell_type": "code",
   "execution_count": 207,
   "metadata": {},
   "outputs": [
    {
     "data": {
      "text/plain": [
       "157.5877600642503"
      ]
     },
     "execution_count": 207,
     "metadata": {},
     "output_type": "execute_result"
    }
   ],
   "source": [
    "  calculateAngle(results.pose_landmarks.landmark[mpPose.PoseLandmark.LEFT_SHOULDER.value], results.pose_landmarks.landmark[mpPose.PoseLandmark.LEFT_ELBOW.value],results.pose_landmarks.landmark[mpPose.PoseLandmark.LEFT_WRIST.value])"
   ]
  },
  {
   "cell_type": "code",
   "execution_count": 262,
   "metadata": {},
   "outputs": [
    {
     "data": {
      "text/plain": [
       "229.46335508594683"
      ]
     },
     "execution_count": 262,
     "metadata": {},
     "output_type": "execute_result"
    }
   ],
   "source": [
    "calculateAngle(results.pose_landmarks.landmark[mpPose.PoseLandmark.LEFT_ELBOW.value],\n",
    "                                         results.pose_landmarks.landmark[mpPose.PoseLandmark.LEFT_SHOULDER.value],\n",
    "                                         results.pose_landmarks.landmark[mpPose.PoseLandmark.LEFT_HIP.value])"
   ]
  },
  {
   "cell_type": "code",
   "execution_count": 260,
   "metadata": {},
   "outputs": [
    {
     "data": {
      "text/plain": [
       "186.1114647893238"
      ]
     },
     "execution_count": 260,
     "metadata": {},
     "output_type": "execute_result"
    }
   ],
   "source": [
    "calculateAngle(results.pose_landmarks.landmark[mpPose.PoseLandmark.LEFT_HIP.value],\n",
    "                                         results.pose_landmarks.landmark[mpPose.PoseLandmark.LEFT_KNEE.value],\n",
    "                                         results.pose_landmarks.landmark[mpPose.PoseLandmark.LEFT_ANKLE.value])"
   ]
  },
  {
   "cell_type": "code",
   "execution_count": 264,
   "metadata": {},
   "outputs": [
    {
     "data": {
      "text/plain": [
       "189.88914090398325"
      ]
     },
     "execution_count": 264,
     "metadata": {},
     "output_type": "execute_result"
    }
   ],
   "source": [
    "calculateAngle(results.pose_landmarks.landmark[mpPose.PoseLandmark.RIGHT_SHOULDER.value],\n",
    "                                         results.pose_landmarks.landmark[mpPose.PoseLandmark.RIGHT_ELBOW.value],\n",
    "                                         results.pose_landmarks.landmark[mpPose.PoseLandmark.RIGHT_WRIST.value])"
   ]
  },
  {
   "cell_type": "code",
   "execution_count": null,
   "metadata": {},
   "outputs": [],
   "source": []
  }
 ],
 "metadata": {
  "colab": {
   "provenance": []
  },
  "kernelspec": {
   "display_name": "Python [conda env:base] *",
   "language": "python",
   "name": "conda-base-py"
  },
  "language_info": {
   "codemirror_mode": {
    "name": "ipython",
    "version": 3
   },
   "file_extension": ".py",
   "mimetype": "text/x-python",
   "name": "python",
   "nbconvert_exporter": "python",
   "pygments_lexer": "ipython3",
   "version": "3.12.7"
  }
 },
 "nbformat": 4,
 "nbformat_minor": 4
}
